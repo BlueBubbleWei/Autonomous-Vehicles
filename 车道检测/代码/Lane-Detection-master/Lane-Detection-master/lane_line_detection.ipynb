{
 "cells": [
  {
   "cell_type": "code",
   "execution_count": 8,
   "metadata": {},
   "outputs": [],
   "source": [
    "import cv2\n",
    "import matplotlib.pyplot as plt\n",
    "import numpy as np\n",
    "import os\n",
    "\n",
    "def img_view_write(img , write = 0 , filename=\"test.png\"):\n",
    "    cv2.imshow(\"test\",img)\n",
    "    cv2.waitKey(0)\n",
    "    cv2.destroyAllWindows()\n",
    "    if write == 1 :\n",
    "        cv2.imwrite(filename,img)\n",
    "\n",
    "def line_Extraction(img):\n",
    "    gray_img = cv2.cvtColor(img , cv2.COLOR_RGB2GRAY) #for white only\n",
    "    img_view_write(gray_img)\n",
    "    hsv_img  = cv2.cvtColor(img,cv2.COLOR_RGB2HSV) #for colors except white\n",
    "    img_view_write(hsv_img)\n",
    "\n",
    "    low_thres_yellow = np.array([25 ,100 , 100] , dtype = 'uint8')\n",
    "    up_thres_yellow  = np.array([100 ,255 , 255] , dtype = \"uint8\")\n",
    "    imBin_yellow = cv2.inRange(hsv_img , low_thres_yellow , up_thres_yellow)\n",
    "\n",
    "    imBin_white = cv2.inRange(gray_img,220,255)\n",
    "    ylw_wht_img = cv2.bitwise_or(imBin_white,imBin_yellow)\n",
    "    gray_ylw_wht = cv2.bitwise_and(gray_img ,ylw_wht_img)\n",
    "    img_view_write(imBin_white)\n",
    "\n",
    "    img_g = cv2.GaussianBlur(gray_ylw_wht , (5,5),0)\n",
    "    #img_view_write(img_g)\n",
    "    #kernel = np.ones((2,2),np.uint8)\n",
    "    #img_m = cv2.morphologyEx(gray_ylw_wht,cv2.MORPH_OPEN,kernel)\n",
    "    #img_view_write(img_m)\n",
    "\n",
    "    img_cannyEdge = cv2.Canny(img_g , 50 ,150)\n",
    "    img_view_write(img_cannyEdge)\n",
    "\n",
    "    h , w = img.shape[:2]\n",
    "    img_roi = np.copy(img_cannyEdge)\n",
    "    upper_bound = int(1*h/4)\n",
    "    lower_bound = int(7*h/8)\n",
    "    img_roi[0:upper_bound,:] = 0\n",
    "    img_roi[lower_bound:h,:] = 0\n",
    "    img_view_write(img_roi)\n",
    "\n",
    "    rho = 2\n",
    "    theta = np.pi/180\n",
    "    min_vote = 40 #20\n",
    "    minLineLength = 100 #50\n",
    "    maxLineGap = 5 #180\n",
    "    lines = cv2.HoughLinesP(img_roi , rho , theta,min_vote,np.array([]),minLineLength,maxLineGap)\n",
    "    for line in lines :\n",
    "        for x1,y1,x2,y2 in line:\n",
    "            img_final = cv2.line(img ,(x1,y1),(x2,y2) ,(255,0,0),2)\n",
    "\n",
    "    img_view_write(img)\n",
    "\n",
    "#img = cv2.imread('test/t0.jpg')\n",
    "img = cv2.imread('test2/solidYellowCurve.jpg')\n",
    "#img_view_write(img,1,\"ok.jpg\")\n",
    "line_Extraction(img)\n"
   ]
  },
  {
   "cell_type": "code",
   "execution_count": null,
   "metadata": {},
   "outputs": [],
   "source": []
  },
  {
   "cell_type": "code",
   "execution_count": null,
   "metadata": {},
   "outputs": [],
   "source": []
  },
  {
   "cell_type": "code",
   "execution_count": null,
   "metadata": {},
   "outputs": [],
   "source": []
  }
 ],
 "metadata": {
  "kernelspec": {
   "display_name": "Python 3",
   "language": "python",
   "name": "python3"
  },
  "language_info": {
   "codemirror_mode": {
    "name": "ipython",
    "version": 3
   },
   "file_extension": ".py",
   "mimetype": "text/x-python",
   "name": "python",
   "nbconvert_exporter": "python",
   "pygments_lexer": "ipython3",
   "version": "3.6.4"
  }
 },
 "nbformat": 4,
 "nbformat_minor": 2
}
