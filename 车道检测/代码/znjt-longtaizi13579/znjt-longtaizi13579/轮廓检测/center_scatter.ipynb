{
 "cells": [
  {
   "cell_type": "code",
   "execution_count": 2,
   "metadata": {},
   "outputs": [
    {
     "ename": "error",
     "evalue": "C:\\projects\\opencv-python\\opencv\\modules\\imgproc\\src\\color.cpp:11111: error: (-215) scn == 3 || scn == 4 in function cv::cvtColor\n",
     "output_type": "error",
     "traceback": [
      "\u001b[1;31m---------------------------------------------------------------------------\u001b[0m",
      "\u001b[1;31merror\u001b[0m                                     Traceback (most recent call last)",
      "\u001b[1;32m<ipython-input-2-9eb470712980>\u001b[0m in \u001b[0;36m<module>\u001b[1;34m()\u001b[0m\n\u001b[0;32m     70\u001b[0m \u001b[0margs_3\u001b[0m\u001b[1;33m=\u001b[0m\u001b[1;34m\"3.png\"\u001b[0m\u001b[1;33m\u001b[0m\u001b[0m\n\u001b[0;32m     71\u001b[0m \u001b[0mcar_test\u001b[0m\u001b[1;33m.\u001b[0m\u001b[0mcenter\u001b[0m\u001b[1;33m(\u001b[0m\u001b[0margs_1\u001b[0m\u001b[1;33m)\u001b[0m\u001b[1;31m#该函数只确定一幅图的质心，args是同一路径下图片的名\u001b[0m\u001b[1;33m\u001b[0m\u001b[0m\n\u001b[1;32m---> 72\u001b[1;33m \u001b[0mcar_test\u001b[0m\u001b[1;33m.\u001b[0m\u001b[0mcenter\u001b[0m\u001b[1;33m(\u001b[0m\u001b[0margs_2\u001b[0m\u001b[1;33m)\u001b[0m\u001b[1;33m\u001b[0m\u001b[0m\n\u001b[0m\u001b[0;32m     73\u001b[0m \u001b[0mcar_test\u001b[0m\u001b[1;33m.\u001b[0m\u001b[0mcenter\u001b[0m\u001b[1;33m(\u001b[0m\u001b[0margs_3\u001b[0m\u001b[1;33m)\u001b[0m\u001b[1;33m\u001b[0m\u001b[0m\n\u001b[0;32m     74\u001b[0m \u001b[0mcar_test\u001b[0m\u001b[1;33m.\u001b[0m\u001b[0mscatter\u001b[0m\u001b[1;33m(\u001b[0m\u001b[1;33m)\u001b[0m\u001b[1;31m#该函数显示该对象所有的位置（路径）\u001b[0m\u001b[1;33m\u001b[0m\u001b[0m\n",
      "\u001b[1;32m<ipython-input-2-9eb470712980>\u001b[0m in \u001b[0;36mcenter\u001b[1;34m(self, args)\u001b[0m\n\u001b[0;32m     12\u001b[0m              \u001b[1;32mdef\u001b[0m \u001b[0mcenter\u001b[0m\u001b[1;33m(\u001b[0m\u001b[0mself\u001b[0m\u001b[1;33m,\u001b[0m\u001b[0margs\u001b[0m\u001b[1;33m)\u001b[0m\u001b[1;33m:\u001b[0m\u001b[1;33m\u001b[0m\u001b[0m\n\u001b[0;32m     13\u001b[0m                           \u001b[0mimage\u001b[0m \u001b[1;33m=\u001b[0m \u001b[0mcv2\u001b[0m\u001b[1;33m.\u001b[0m\u001b[0mimread\u001b[0m\u001b[1;33m(\u001b[0m\u001b[0margs\u001b[0m\u001b[1;33m)\u001b[0m\u001b[1;33m\u001b[0m\u001b[0m\n\u001b[1;32m---> 14\u001b[1;33m                           \u001b[0mgray\u001b[0m \u001b[1;33m=\u001b[0m \u001b[0mcv2\u001b[0m\u001b[1;33m.\u001b[0m\u001b[0mcvtColor\u001b[0m\u001b[1;33m(\u001b[0m\u001b[0mimage\u001b[0m\u001b[1;33m,\u001b[0m \u001b[0mcv2\u001b[0m\u001b[1;33m.\u001b[0m\u001b[0mCOLOR_BGR2GRAY\u001b[0m\u001b[1;33m)\u001b[0m\u001b[1;33m\u001b[0m\u001b[0m\n\u001b[0m\u001b[0;32m     15\u001b[0m                           \u001b[1;31m#blurred = cv2.GaussianBlur(gray, (5, 5), 0)\u001b[0m\u001b[1;33m\u001b[0m\u001b[1;33m\u001b[0m\u001b[0m\n\u001b[0;32m     16\u001b[0m                           \u001b[0mthresh\u001b[0m \u001b[1;33m=\u001b[0m \u001b[0mcv2\u001b[0m\u001b[1;33m.\u001b[0m\u001b[0mthreshold\u001b[0m\u001b[1;33m(\u001b[0m\u001b[0mgray\u001b[0m\u001b[1;33m,\u001b[0m \u001b[1;36m96\u001b[0m\u001b[1;33m,\u001b[0m \u001b[1;36m255\u001b[0m\u001b[1;33m,\u001b[0m \u001b[0mcv2\u001b[0m\u001b[1;33m.\u001b[0m\u001b[0mTHRESH_TRUNC\u001b[0m\u001b[1;33m)\u001b[0m\u001b[1;33m[\u001b[0m\u001b[1;36m1\u001b[0m\u001b[1;33m]\u001b[0m\u001b[1;33m\u001b[0m\u001b[0m\n",
      "\u001b[1;31merror\u001b[0m: C:\\projects\\opencv-python\\opencv\\modules\\imgproc\\src\\color.cpp:11111: error: (-215) scn == 3 || scn == 4 in function cv::cvtColor\n"
     ]
    }
   ],
   "source": [
    "import matplotlib.pyplot as plt\n",
    "import numpy as np\n",
    "import argparse\n",
    "import imutils\n",
    "import cv2\n",
    "count=3\n",
    "#**********************注:这里涉及到的x,y都是以左下角为(0,0)点***********************#\n",
    "class Car:\n",
    "             \"\"\"Class to represent a car\n",
    "             \"\"\"\n",
    "             position=[[0,0],[0,0],[0,0],[0,0]];\n",
    "             def center(self,args):\n",
    "                          image = cv2.imread(args)\n",
    "                          gray = cv2.cvtColor(image, cv2.COLOR_BGR2GRAY)\n",
    "                          #blurred = cv2.GaussianBlur(gray, (5, 5), 0)\n",
    "                          thresh = cv2.threshold(gray, 96, 255, cv2.THRESH_TRUNC)[1]\n",
    "                          # find contours in the thresholded image\n",
    "                          cnts = cv2.findContours(thresh.copy(), cv2.RETR_LIST,\n",
    "                                  cv2.CHAIN_APPROX_NONE )\n",
    "                          cnts = cnts[0] if imutils.is_cv2() else cnts[1]\n",
    "                          # loop over the contours\n",
    "                          list=[0,0,0,0];\n",
    "                          # compute the center of the contour\n",
    "                          M = cv2.moments(cnts[0])\n",
    "                          cX = int(M[\"m10\"] / M[\"m00\"])\n",
    "                          cY = int(M[\"m01\"] / M[\"m00\"])\n",
    "                          # draw the contour and center of the shape on the image\n",
    "                          cv2.drawContours(image, [cnts[0]], -1, (255, 255, 0), 2)\n",
    "                          cv2.circle(image, (cX, cY), 7, (255, 0, 0), -1)\n",
    "                          cv2.putText(image, \"center\", (cX - 20, cY - 20),\n",
    "                                  cv2.FONT_HERSHEY_SIMPLEX, 0.5, (255, 255, 255), 2)\n",
    "                          key=self.position.index([0,0])\n",
    "                          # show the image\n",
    "                          #print(cX,cY)\n",
    "                          if M['m00']!=0:\n",
    "                                   self.position[key][0]=cX\n",
    "                                   self.position[key][1]=cY\n",
    "                          #s[c]=str(cY)\n",
    "                          cv2.imshow(\"Image\", image)\n",
    "                          cv2.imshow(\"gray\", gray)\n",
    "                          k = cv2.waitKey(0)\n",
    "                          if k == 27:  # wait for ESC key to exitcv2.destroyAllWindows\n",
    "                                  cv2.destroyAllWindows\n",
    "             def scatter(self):\n",
    "                          for row in range(count):#count的值是可变的在上面定义过（在这里只设置为了3）\n",
    "                                       X = self.position[row][0]\n",
    "                                       Y = 500-self.position[row][1]\n",
    "                                       print(X,Y)\n",
    "                                       print(row)\n",
    "                                       T = np.arctan2(Y,X) # for color value\n",
    "                                       plt.scatter(X, Y, s=75, c=T, alpha=.5)#s是size大小，c是指颜色，alpha是透明度50%\n",
    "                                       plt.xlim(0, 100)#取值范围\n",
    "                                       plt.xticks(())  # ignore xticks\n",
    "                                       plt.ylim(-0, 1000)\n",
    "                                       plt.yticks(())  # ignore yticks\n",
    "                                       #设置x，y轴坐标轴范围\n",
    "                                       plt.xlim((0, 1000))\n",
    "                                       plt.ylim((0, 100))\n",
    "                                       #设置x，y轴刻度\n",
    "                                       plt.xticks(np.linspace(0, 1000, 10))\n",
    "                                       plt.yticks(np.linspace(0, 500, 5))\n",
    "                                       #设置x，y轴标签\n",
    "                                       plt.xlabel('X axis')\n",
    "                                       plt.ylabel('Y axis')\n",
    "                          plt.show()\n",
    "\n",
    "car_test=Car()\n",
    "args_1=\"1.png\"\n",
    "args_2=\"2.png\"\n",
    "args_3=\"3.png\"\n",
    "car_test.center(args_1)#该函数只确定一幅图的质心，args是同一路径下图片的名\n",
    "car_test.center(args_2)\n",
    "car_test.center(args_3)\n",
    "car_test.scatter()#该函数显示该对象所有的位置（路径）\n",
    "\n"
   ]
  },
  {
   "cell_type": "code",
   "execution_count": null,
   "metadata": {
    "collapsed": true
   },
   "outputs": [],
   "source": []
  }
 ],
 "metadata": {
  "kernelspec": {
   "display_name": "Python 3",
   "language": "python",
   "name": "python3"
  },
  "language_info": {
   "codemirror_mode": {
    "name": "ipython",
    "version": 3
   },
   "file_extension": ".py",
   "mimetype": "text/x-python",
   "name": "python",
   "nbconvert_exporter": "python",
   "pygments_lexer": "ipython3",
   "version": "3.6.4"
  }
 },
 "nbformat": 4,
 "nbformat_minor": 2
}
