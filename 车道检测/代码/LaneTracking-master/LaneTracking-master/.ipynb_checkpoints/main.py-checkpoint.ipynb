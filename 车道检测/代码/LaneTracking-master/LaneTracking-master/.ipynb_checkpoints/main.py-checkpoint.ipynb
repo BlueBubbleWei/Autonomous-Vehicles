{
 "cells": [
  {
   "cell_type": "code",
   "execution_count": 3,
   "metadata": {},
   "outputs": [],
   "source": [
    "from __future__ import division\n",
    "\n",
    "import cv2\n",
    "\n",
    "import track\n",
    "import detect\n",
    "\n",
    "\n",
    "def main(video_path):\n",
    "    cap = cv2.VideoCapture(video_path)\n",
    "    ticks = 0\n",
    "    lt = track.LaneTracker(2, 0.1, 500)\n",
    "    ld = detect.LaneDetector(180)\n",
    "    while cap.isOpened():\n",
    "        print(\"已经开始处理\")\n",
    "        precTick = ticks\n",
    "        ticks = cv2.getTickCount()\n",
    "        dt = (ticks - precTick) / cv2.getTickFrequency()\n",
    "\n",
    "        ret, frame = cap.read()\n",
    "\n",
    "        predicted = lt.predict(dt)\n",
    "\n",
    "        lanes = ld.detect(frame)\n",
    "\n",
    "        if predicted is not None:\n",
    "            cv2.line(frame, (predicted[0][0], predicted[0][1]), (predicted[0][2], predicted[0][3]), (0, 0, 255), 5)\n",
    "            cv2.line(frame, (predicted[1][0], predicted[1][1]), (predicted[1][2], predicted[1][3]), (0, 0, 255), 5)\n",
    "\n",
    "        lt.update(lanes)\n",
    "\n",
    "        cv2.imshow('', frame)\n",
    "        if cv2.waitKey(1) & 0xFF == ord('q'):\n",
    "            break\n",
    "main(\"1.qsv\")\n"
   ]
  },
  {
   "cell_type": "code",
   "execution_count": null,
   "metadata": {},
   "outputs": [],
   "source": []
  },
  {
   "cell_type": "code",
   "execution_count": null,
   "metadata": {},
   "outputs": [],
   "source": []
  }
 ],
 "metadata": {
  "kernelspec": {
   "display_name": "Python 3",
   "language": "python",
   "name": "python3"
  },
  "language_info": {
   "codemirror_mode": {
    "name": "ipython",
    "version": 3
   },
   "file_extension": ".py",
   "mimetype": "text/x-python",
   "name": "python",
   "nbconvert_exporter": "python",
   "pygments_lexer": "ipython3",
   "version": "3.6.4"
  }
 },
 "nbformat": 4,
 "nbformat_minor": 2
}
